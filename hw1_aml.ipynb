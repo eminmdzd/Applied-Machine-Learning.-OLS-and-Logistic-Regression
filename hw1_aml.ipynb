{
 "cells": [
  {
   "cell_type": "code",
   "execution_count": 1,
   "id": "d6e40cdd",
   "metadata": {},
   "outputs": [],
   "source": [
    "import numpy as np\n",
    "import matplotlib.pyplot as plt\n",
    "import pandas as pd\n",
    "from sklearn.preprocessing import MinMaxScaler\n",
    "from sklearn.preprocessing import OneHotEncoder, StandardScaler, LabelEncoder\n",
    "from sklearn.model_selection import train_test_split\n",
    "from sklearn.linear_model import LogisticRegression\n",
    "from sklearn.metrics import confusion_matrix, accuracy_score, roc_auc_score, roc_curve\n",
    "import seaborn as sns"
   ]
  },
  {
   "cell_type": "markdown",
   "id": "5aeaafff",
   "metadata": {},
   "source": [
    "# PART 1"
   ]
  },
  {
   "cell_type": "markdown",
   "id": "e0291201",
   "metadata": {},
   "source": [
    "## Question 1"
   ]
  },
  {
   "cell_type": "code",
   "execution_count": 2,
   "id": "1120e955",
   "metadata": {},
   "outputs": [],
   "source": [
    "test_file = 'data/test.csv'\n",
    "train_file = 'data/train.csv'\n",
    "test_data = pd.read_csv(test_file)\n",
    "train_data = pd.read_csv(train_file)"
   ]
  },
  {
   "cell_type": "code",
   "execution_count": 3,
   "id": "682eed72",
   "metadata": {},
   "outputs": [
    {
     "data": {
      "text/html": [
       "<div>\n",
       "<style scoped>\n",
       "    .dataframe tbody tr th:only-of-type {\n",
       "        vertical-align: middle;\n",
       "    }\n",
       "\n",
       "    .dataframe tbody tr th {\n",
       "        vertical-align: top;\n",
       "    }\n",
       "\n",
       "    .dataframe thead th {\n",
       "        text-align: right;\n",
       "    }\n",
       "</style>\n",
       "<table border=\"1\" class=\"dataframe\">\n",
       "  <thead>\n",
       "    <tr style=\"text-align: right;\">\n",
       "      <th></th>\n",
       "      <th>Id</th>\n",
       "      <th>MSSubClass</th>\n",
       "      <th>MSZoning</th>\n",
       "      <th>LotFrontage</th>\n",
       "      <th>LotArea</th>\n",
       "      <th>Street</th>\n",
       "      <th>Alley</th>\n",
       "      <th>LotShape</th>\n",
       "      <th>LandContour</th>\n",
       "      <th>Utilities</th>\n",
       "      <th>...</th>\n",
       "      <th>PoolArea</th>\n",
       "      <th>PoolQC</th>\n",
       "      <th>Fence</th>\n",
       "      <th>MiscFeature</th>\n",
       "      <th>MiscVal</th>\n",
       "      <th>MoSold</th>\n",
       "      <th>YrSold</th>\n",
       "      <th>SaleType</th>\n",
       "      <th>SaleCondition</th>\n",
       "      <th>SalePrice</th>\n",
       "    </tr>\n",
       "  </thead>\n",
       "  <tbody>\n",
       "    <tr>\n",
       "      <th>0</th>\n",
       "      <td>1</td>\n",
       "      <td>60</td>\n",
       "      <td>RL</td>\n",
       "      <td>65.0</td>\n",
       "      <td>8450</td>\n",
       "      <td>Pave</td>\n",
       "      <td>NaN</td>\n",
       "      <td>Reg</td>\n",
       "      <td>Lvl</td>\n",
       "      <td>AllPub</td>\n",
       "      <td>...</td>\n",
       "      <td>0</td>\n",
       "      <td>NaN</td>\n",
       "      <td>NaN</td>\n",
       "      <td>NaN</td>\n",
       "      <td>0</td>\n",
       "      <td>2</td>\n",
       "      <td>2008</td>\n",
       "      <td>WD</td>\n",
       "      <td>Normal</td>\n",
       "      <td>208500</td>\n",
       "    </tr>\n",
       "    <tr>\n",
       "      <th>1</th>\n",
       "      <td>2</td>\n",
       "      <td>20</td>\n",
       "      <td>RL</td>\n",
       "      <td>80.0</td>\n",
       "      <td>9600</td>\n",
       "      <td>Pave</td>\n",
       "      <td>NaN</td>\n",
       "      <td>Reg</td>\n",
       "      <td>Lvl</td>\n",
       "      <td>AllPub</td>\n",
       "      <td>...</td>\n",
       "      <td>0</td>\n",
       "      <td>NaN</td>\n",
       "      <td>NaN</td>\n",
       "      <td>NaN</td>\n",
       "      <td>0</td>\n",
       "      <td>5</td>\n",
       "      <td>2007</td>\n",
       "      <td>WD</td>\n",
       "      <td>Normal</td>\n",
       "      <td>181500</td>\n",
       "    </tr>\n",
       "    <tr>\n",
       "      <th>2</th>\n",
       "      <td>3</td>\n",
       "      <td>60</td>\n",
       "      <td>RL</td>\n",
       "      <td>68.0</td>\n",
       "      <td>11250</td>\n",
       "      <td>Pave</td>\n",
       "      <td>NaN</td>\n",
       "      <td>IR1</td>\n",
       "      <td>Lvl</td>\n",
       "      <td>AllPub</td>\n",
       "      <td>...</td>\n",
       "      <td>0</td>\n",
       "      <td>NaN</td>\n",
       "      <td>NaN</td>\n",
       "      <td>NaN</td>\n",
       "      <td>0</td>\n",
       "      <td>9</td>\n",
       "      <td>2008</td>\n",
       "      <td>WD</td>\n",
       "      <td>Normal</td>\n",
       "      <td>223500</td>\n",
       "    </tr>\n",
       "    <tr>\n",
       "      <th>3</th>\n",
       "      <td>4</td>\n",
       "      <td>70</td>\n",
       "      <td>RL</td>\n",
       "      <td>60.0</td>\n",
       "      <td>9550</td>\n",
       "      <td>Pave</td>\n",
       "      <td>NaN</td>\n",
       "      <td>IR1</td>\n",
       "      <td>Lvl</td>\n",
       "      <td>AllPub</td>\n",
       "      <td>...</td>\n",
       "      <td>0</td>\n",
       "      <td>NaN</td>\n",
       "      <td>NaN</td>\n",
       "      <td>NaN</td>\n",
       "      <td>0</td>\n",
       "      <td>2</td>\n",
       "      <td>2006</td>\n",
       "      <td>WD</td>\n",
       "      <td>Abnorml</td>\n",
       "      <td>140000</td>\n",
       "    </tr>\n",
       "    <tr>\n",
       "      <th>4</th>\n",
       "      <td>5</td>\n",
       "      <td>60</td>\n",
       "      <td>RL</td>\n",
       "      <td>84.0</td>\n",
       "      <td>14260</td>\n",
       "      <td>Pave</td>\n",
       "      <td>NaN</td>\n",
       "      <td>IR1</td>\n",
       "      <td>Lvl</td>\n",
       "      <td>AllPub</td>\n",
       "      <td>...</td>\n",
       "      <td>0</td>\n",
       "      <td>NaN</td>\n",
       "      <td>NaN</td>\n",
       "      <td>NaN</td>\n",
       "      <td>0</td>\n",
       "      <td>12</td>\n",
       "      <td>2008</td>\n",
       "      <td>WD</td>\n",
       "      <td>Normal</td>\n",
       "      <td>250000</td>\n",
       "    </tr>\n",
       "  </tbody>\n",
       "</table>\n",
       "<p>5 rows × 81 columns</p>\n",
       "</div>"
      ],
      "text/plain": [
       "   Id  MSSubClass MSZoning  LotFrontage  LotArea Street Alley LotShape  \\\n",
       "0   1          60       RL         65.0     8450   Pave   NaN      Reg   \n",
       "1   2          20       RL         80.0     9600   Pave   NaN      Reg   \n",
       "2   3          60       RL         68.0    11250   Pave   NaN      IR1   \n",
       "3   4          70       RL         60.0     9550   Pave   NaN      IR1   \n",
       "4   5          60       RL         84.0    14260   Pave   NaN      IR1   \n",
       "\n",
       "  LandContour Utilities  ... PoolArea PoolQC Fence MiscFeature MiscVal MoSold  \\\n",
       "0         Lvl    AllPub  ...        0    NaN   NaN         NaN       0      2   \n",
       "1         Lvl    AllPub  ...        0    NaN   NaN         NaN       0      5   \n",
       "2         Lvl    AllPub  ...        0    NaN   NaN         NaN       0      9   \n",
       "3         Lvl    AllPub  ...        0    NaN   NaN         NaN       0      2   \n",
       "4         Lvl    AllPub  ...        0    NaN   NaN         NaN       0     12   \n",
       "\n",
       "  YrSold  SaleType  SaleCondition  SalePrice  \n",
       "0   2008        WD         Normal     208500  \n",
       "1   2007        WD         Normal     181500  \n",
       "2   2008        WD         Normal     223500  \n",
       "3   2006        WD        Abnorml     140000  \n",
       "4   2008        WD         Normal     250000  \n",
       "\n",
       "[5 rows x 81 columns]"
      ]
     },
     "execution_count": 3,
     "metadata": {},
     "output_type": "execute_result"
    }
   ],
   "source": [
    "train_data.head()"
   ]
  },
  {
   "cell_type": "markdown",
   "id": "ff4c1c88",
   "metadata": {},
   "source": [
    "## Question 2"
   ]
  },
  {
   "cell_type": "markdown",
   "id": "9e9ad852",
   "metadata": {},
   "source": [
    "### Continuous features\n",
    "\n",
    "1. Lot area\n",
    "2. Lot Frontage\n",
    "3. GrLivArea"
   ]
  },
  {
   "cell_type": "markdown",
   "id": "68cb2aee",
   "metadata": {},
   "source": [
    "### Categorical features\n",
    "\n",
    "1. MSZoning\n",
    "2. Street\n",
    "3. Lot Shape"
   ]
  },
  {
   "cell_type": "code",
   "execution_count": 4,
   "id": "287b35b0",
   "metadata": {
    "scrolled": false
   },
   "outputs": [
    {
     "data": {
      "image/png": "[encoded data removed]",
      "text/plain": [
       "<Figure size 1080x720 with 2 Axes>"
      ]
     },
     "metadata": {
      "needs_background": "light"
     },
     "output_type": "display_data"
    }
   ],
   "source": [
    "plt.figure(figsize=(15, 10))\n",
    "\n",
    "plt.subplot(2, 2, 1)\n",
    "plt.hist(train_data['LotArea'], bins=20, color='blue', edgecolor='black')\n",
    "plt.title('Distribution of LotArea')\n",
    "plt.xlabel('LotArea')\n",
    "plt.ylabel('Frequency')\n",
    "\n",
    "plt.subplot(2, 2, 2)\n",
    "train_data['MSZoning'].value_counts().plot(kind='bar', color='red', edgecolor='black')\n",
    "plt.title('Distribution of MSZoning')\n",
    "plt.xlabel('MSZoning')\n",
    "plt.ylabel('Frequency')\n",
    "\n",
    "plt.tight_layout()\n",
    "plt.show()\n"
   ]
  },
  {
   "cell_type": "markdown",
   "id": "4f7aae00",
   "metadata": {},
   "source": [
    "## Question 3 . Preprocessing"
   ]
  },
  {
   "cell_type": "code",
   "execution_count": 5,
   "id": "75acd2af",
   "metadata": {},
   "outputs": [],
   "source": [
    "# drop the id, miscfeature, miscval as it is not needed for training\n",
    "train_data = train_data.drop('Id', axis=1)\n",
    "train_data = train_data.drop('MiscFeature', axis=1)\n",
    "train_data = train_data.drop('MiscVal', axis=1)\n",
    "# too many missing values\n",
    "train_data = train_data.drop(['PoolQC', 'PoolArea', 'MasVnrType', 'MasVnrArea'], axis=1)\n",
    "\n",
    "test_data = test_data.drop('Id', axis=1)\n",
    "test_data = test_data.drop('MiscFeature', axis=1)\n",
    "test_data = test_data.drop('MiscVal', axis=1)\n",
    "# too many missing values\n",
    "test_data = test_data.drop(['PoolQC', 'PoolArea', 'MasVnrType', 'MasVnrArea'], axis=1)"
   ]
  },
  {
   "cell_type": "code",
   "execution_count": 6,
   "id": "404b476c",
   "metadata": {},
   "outputs": [
    {
     "name": "stdout",
     "output_type": "stream",
     "text": [
      "<class 'pandas.core.frame.DataFrame'>\n",
      "RangeIndex: 1460 entries, 0 to 1459\n",
      "Data columns (total 74 columns):\n",
      " #   Column         Non-Null Count  Dtype  \n",
      "---  ------         --------------  -----  \n",
      " 0   MSSubClass     1460 non-null   int64  \n",
      " 1   MSZoning       1460 non-null   object \n",
      " 2   LotFrontage    1201 non-null   float64\n",
      " 3   LotArea        1460 non-null   int64  \n",
      " 4   Street         1460 non-null   object \n",
      " 5   Alley          91 non-null     object \n",
      " 6   LotShape       1460 non-null   object \n",
      " 7   LandContour    1460 non-null   object \n",
      " 8   Utilities      1460 non-null   object \n",
      " 9   LotConfig      1460 non-null   object \n",
      " 10  LandSlope      1460 non-null   object \n",
      " 11  Neighborhood   1460 non-null   object \n",
      " 12  Condition1     1460 non-null   object \n",
      " 13  Condition2     1460 non-null   object \n",
      " 14  BldgType       1460 non-null   object \n",
      " 15  HouseStyle     1460 non-null   object \n",
      " 16  OverallQual    1460 non-null   int64  \n",
      " 17  OverallCond    1460 non-null   int64  \n",
      " 18  YearBuilt      1460 non-null   int64  \n",
      " 19  YearRemodAdd   1460 non-null   int64  \n",
      " 20  RoofStyle      1460 non-null   object \n",
      " 21  RoofMatl       1460 non-null   object \n",
      " 22  Exterior1st    1460 non-null   object \n",
      " 23  Exterior2nd    1460 non-null   object \n",
      " 24  ExterQual      1460 non-null   object \n",
      " 25  ExterCond      1460 non-null   object \n",
      " 26  Foundation     1460 non-null   object \n",
      " 27  BsmtQual       1423 non-null   object \n",
      " 28  BsmtCond       1423 non-null   object \n",
      " 29  BsmtExposure   1422 non-null   object \n",
      " 30  BsmtFinType1   1423 non-null   object \n",
      " 31  BsmtFinSF1     1460 non-null   int64  \n",
      " 32  BsmtFinType2   1422 non-null   object \n",
      " 33  BsmtFinSF2     1460 non-null   int64  \n",
      " 34  BsmtUnfSF      1460 non-null   int64  \n",
      " 35  TotalBsmtSF    1460 non-null   int64  \n",
      " 36  Heating        1460 non-null   object \n",
      " 37  HeatingQC      1460 non-null   object \n",
      " 38  CentralAir     1460 non-null   object \n",
      " 39  Electrical     1459 non-null   object \n",
      " 40  1stFlrSF       1460 non-null   int64  \n",
      " 41  2ndFlrSF       1460 non-null   int64  \n",
      " 42  LowQualFinSF   1460 non-null   int64  \n",
      " 43  GrLivArea      1460 non-null   int64  \n",
      " 44  BsmtFullBath   1460 non-null   int64  \n",
      " 45  BsmtHalfBath   1460 non-null   int64  \n",
      " 46  FullBath       1460 non-null   int64  \n",
      " 47  HalfBath       1460 non-null   int64  \n",
      " 48  BedroomAbvGr   1460 non-null   int64  \n",
      " 49  KitchenAbvGr   1460 non-null   int64  \n",
      " 50  KitchenQual    1460 non-null   object \n",
      " 51  TotRmsAbvGrd   1460 non-null   int64  \n",
      " 52  Functional     1460 non-null   object \n",
      " 53  Fireplaces     1460 non-null   int64  \n",
      " 54  FireplaceQu    770 non-null    object \n",
      " 55  GarageType     1379 non-null   object \n",
      " 56  GarageYrBlt    1379 non-null   float64\n",
      " 57  GarageFinish   1379 non-null   object \n",
      " 58  GarageCars     1460 non-null   int64  \n",
      " 59  GarageArea     1460 non-null   int64  \n",
      " 60  GarageQual     1379 non-null   object \n",
      " 61  GarageCond     1379 non-null   object \n",
      " 62  PavedDrive     1460 non-null   object \n",
      " 63  WoodDeckSF     1460 non-null   int64  \n",
      " 64  OpenPorchSF    1460 non-null   int64  \n",
      " 65  EnclosedPorch  1460 non-null   int64  \n",
      " 66  3SsnPorch      1460 non-null   int64  \n",
      " 67  ScreenPorch    1460 non-null   int64  \n",
      " 68  Fence          281 non-null    object \n",
      " 69  MoSold         1460 non-null   int64  \n",
      " 70  YrSold         1460 non-null   int64  \n",
      " 71  SaleType       1460 non-null   object \n",
      " 72  SaleCondition  1460 non-null   object \n",
      " 73  SalePrice      1460 non-null   int64  \n",
      "dtypes: float64(2), int64(32), object(40)\n",
      "memory usage: 844.2+ KB\n"
     ]
    }
   ],
   "source": [
    "# extract info about the features\n",
    "train_data.info()"
   ]
  },
  {
   "cell_type": "code",
   "execution_count": 7,
   "id": "21f57978",
   "metadata": {},
   "outputs": [],
   "source": [
    "# Dealing with missing values:\n",
    "# 1. Replace the numerical features with the median to not skew the data\n",
    "# 2. Replace the missing categorical features with mode"
   ]
  },
  {
   "cell_type": "code",
   "execution_count": 8,
   "id": "63d4b305",
   "metadata": {},
   "outputs": [],
   "source": [
    "train_data['LotFrontage'] = train_data['LotFrontage'].fillna(train_data['LotFrontage'].median())\n",
    "train_data['GarageYrBlt'] = train_data['GarageYrBlt'].fillna(train_data['GarageYrBlt'].median())\n",
    "\n",
    "test_data['LotFrontage'] = test_data['LotFrontage'].fillna(test_data['LotFrontage'].median())\n",
    "test_data['GarageYrBlt'] = test_data['GarageYrBlt'].fillna(test_data['GarageYrBlt'].median())"
   ]
  },
  {
   "cell_type": "code",
   "execution_count": 9,
   "id": "ba397eb0",
   "metadata": {},
   "outputs": [],
   "source": [
    "train_data['BsmtQual'] = train_data['BsmtQual'].fillna(train_data['BsmtQual'].mode()[0])\n",
    "train_data['BsmtCond'] = train_data['BsmtCond'].fillna(train_data['BsmtCond'].mode()[0])\n",
    "train_data['BsmtExposure'] = train_data['BsmtExposure'].fillna(train_data['BsmtExposure'].mode()[0])\n",
    "train_data['BsmtFinType1'] = train_data['BsmtFinType1'].fillna(train_data['BsmtFinType1'].mode()[0])\n",
    "train_data['BsmtFinType2'] = train_data['BsmtFinType2'].fillna(train_data['BsmtFinType2'].mode()[0])\n",
    "train_data['Electrical'] = train_data['Electrical'].fillna(train_data['Electrical'].mode()[0])\n",
    "train_data['FireplaceQu'] = train_data['FireplaceQu'].fillna(train_data['FireplaceQu'].mode()[0])\n",
    "train_data['GarageType'] = train_data['GarageType'].fillna(train_data['GarageType'].mode()[0])\n",
    "train_data['GarageFinish'] = train_data['GarageFinish'].fillna(train_data['GarageFinish'].mode()[0])\n",
    "train_data['GarageQual'] = train_data['GarageQual'].fillna(train_data['GarageQual'].mode()[0])\n",
    "train_data['GarageCond'] = train_data['GarageCond'].fillna(train_data['GarageCond'].mode()[0])\n",
    "\n",
    "\n",
    "test_data['BsmtQual'] = test_data['BsmtQual'].fillna(test_data['BsmtQual'].mode()[0])\n",
    "test_data['BsmtCond'] = test_data['BsmtCond'].fillna(test_data['BsmtCond'].mode()[0])\n",
    "test_data['BsmtExposure'] = test_data['BsmtExposure'].fillna(test_data['BsmtExposure'].mode()[0])\n",
    "test_data['BsmtFinType1'] = test_data['BsmtFinType1'].fillna(test_data['BsmtFinType1'].mode()[0])\n",
    "test_data['BsmtFinType2'] = test_data['BsmtFinType2'].fillna(test_data['BsmtFinType2'].mode()[0])\n",
    "test_data['Electrical'] = test_data['Electrical'].fillna(test_data['Electrical'].mode()[0])\n",
    "test_data['FireplaceQu'] = test_data['FireplaceQu'].fillna(test_data['FireplaceQu'].mode()[0])\n",
    "test_data['GarageType'] = test_data['GarageType'].fillna(test_data['GarageType'].mode()[0])\n",
    "test_data['GarageFinish'] = test_data['GarageFinish'].fillna(test_data['GarageFinish'].mode()[0])\n",
    "test_data['GarageQual'] = test_data['GarageQual'].fillna(test_data['GarageQual'].mode()[0])\n",
    "test_data['GarageCond'] = test_data['GarageCond'].fillna(test_data['GarageCond'].mode()[0])"
   ]
  },
  {
   "cell_type": "code",
   "execution_count": 10,
   "id": "33eee27f",
   "metadata": {},
   "outputs": [],
   "source": [
    "# create a new value for alley and fence.\n",
    "# there is a lot of missing data and presence of alley and a fence can affect the price of the house.\n",
    "# will replace NA with NoAlley and NoFence\n",
    "train_data['Alley'] = train_data['Alley'].fillna('NoAlley')\n",
    "train_data['Fence'] = train_data['Fence'].fillna('NoFence')\n",
    "\n",
    "test_data['Alley'] = test_data['Alley'].fillna('NoAlley')\n",
    "test_data['Fence'] = test_data['Fence'].fillna('NoFence')"
   ]
  },
  {
   "cell_type": "code",
   "execution_count": 11,
   "id": "f896e0f1",
   "metadata": {},
   "outputs": [
    {
     "name": "stdout",
     "output_type": "stream",
     "text": [
      "<class 'pandas.core.frame.DataFrame'>\n",
      "RangeIndex: 1460 entries, 0 to 1459\n",
      "Data columns (total 74 columns):\n",
      " #   Column         Non-Null Count  Dtype  \n",
      "---  ------         --------------  -----  \n",
      " 0   MSSubClass     1460 non-null   int64  \n",
      " 1   MSZoning       1460 non-null   object \n",
      " 2   LotFrontage    1460 non-null   float64\n",
      " 3   LotArea        1460 non-null   int64  \n",
      " 4   Street         1460 non-null   object \n",
      " 5   Alley          1460 non-null   object \n",
      " 6   LotShape       1460 non-null   object \n",
      " 7   LandContour    1460 non-null   object \n",
      " 8   Utilities      1460 non-null   object \n",
      " 9   LotConfig      1460 non-null   object \n",
      " 10  LandSlope      1460 non-null   object \n",
      " 11  Neighborhood   1460 non-null   object \n",
      " 12  Condition1     1460 non-null   object \n",
      " 13  Condition2     1460 non-null   object \n",
      " 14  BldgType       1460 non-null   object \n",
      " 15  HouseStyle     1460 non-null   object \n",
      " 16  OverallQual    1460 non-null   int64  \n",
      " 17  OverallCond    1460 non-null   int64  \n",
      " 18  YearBuilt      1460 non-null   int64  \n",
      " 19  YearRemodAdd   1460 non-null   int64  \n",
      " 20  RoofStyle      1460 non-null   object \n",
      " 21  RoofMatl       1460 non-null   object \n",
      " 22  Exterior1st    1460 non-null   object \n",
      " 23  Exterior2nd    1460 non-null   object \n",
      " 24  ExterQual      1460 non-null   object \n",
      " 25  ExterCond      1460 non-null   object \n",
      " 26  Foundation     1460 non-null   object \n",
      " 27  BsmtQual       1460 non-null   object \n",
      " 28  BsmtCond       1460 non-null   object \n",
      " 29  BsmtExposure   1460 non-null   object \n",
      " 30  BsmtFinType1   1460 non-null   object \n",
      " 31  BsmtFinSF1     1460 non-null   int64  \n",
      " 32  BsmtFinType2   1460 non-null   object \n",
      " 33  BsmtFinSF2     1460 non-null   int64  \n",
      " 34  BsmtUnfSF      1460 non-null   int64  \n",
      " 35  TotalBsmtSF    1460 non-null   int64  \n",
      " 36  Heating        1460 non-null   object \n",
      " 37  HeatingQC      1460 non-null   object \n",
      " 38  CentralAir     1460 non-null   object \n",
      " 39  Electrical     1460 non-null   object \n",
      " 40  1stFlrSF       1460 non-null   int64  \n",
      " 41  2ndFlrSF       1460 non-null   int64  \n",
      " 42  LowQualFinSF   1460 non-null   int64  \n",
      " 43  GrLivArea      1460 non-null   int64  \n",
      " 44  BsmtFullBath   1460 non-null   int64  \n",
      " 45  BsmtHalfBath   1460 non-null   int64  \n",
      " 46  FullBath       1460 non-null   int64  \n",
      " 47  HalfBath       1460 non-null   int64  \n",
      " 48  BedroomAbvGr   1460 non-null   int64  \n",
      " 49  KitchenAbvGr   1460 non-null   int64  \n",
      " 50  KitchenQual    1460 non-null   object \n",
      " 51  TotRmsAbvGrd   1460 non-null   int64  \n",
      " 52  Functional     1460 non-null   object \n",
      " 53  Fireplaces     1460 non-null   int64  \n",
      " 54  FireplaceQu    1460 non-null   object \n",
      " 55  GarageType     1460 non-null   object \n",
      " 56  GarageYrBlt    1460 non-null   float64\n",
      " 57  GarageFinish   1460 non-null   object \n",
      " 58  GarageCars     1460 non-null   int64  \n",
      " 59  GarageArea     1460 non-null   int64  \n",
      " 60  GarageQual     1460 non-null   object \n",
      " 61  GarageCond     1460 non-null   object \n",
      " 62  PavedDrive     1460 non-null   object \n",
      " 63  WoodDeckSF     1460 non-null   int64  \n",
      " 64  OpenPorchSF    1460 non-null   int64  \n",
      " 65  EnclosedPorch  1460 non-null   int64  \n",
      " 66  3SsnPorch      1460 non-null   int64  \n",
      " 67  ScreenPorch    1460 non-null   int64  \n",
      " 68  Fence          1460 non-null   object \n",
      " 69  MoSold         1460 non-null   int64  \n",
      " 70  YrSold         1460 non-null   int64  \n",
      " 71  SaleType       1460 non-null   object \n",
      " 72  SaleCondition  1460 non-null   object \n",
      " 73  SalePrice      1460 non-null   int64  \n",
      "dtypes: float64(2), int64(32), object(40)\n",
      "memory usage: 844.2+ KB\n"
     ]
    }
   ],
   "source": [
    "train_data.info()"
   ]
  },
  {
   "cell_type": "code",
   "execution_count": 12,
   "id": "69446aa5",
   "metadata": {},
   "outputs": [],
   "source": [
    "# Select the features that should be scaled\n",
    "columns_to_scale = ['GrLivArea', 'LotArea', 'TotalBsmtSF', '1stFlrSF', 'BsmtFinSF1']\n",
    "\n",
    "# Apply scaling only to the columns that need scaling\n",
    "scaler = MinMaxScaler(feature_range=(0, 1))\n",
    "\n",
    "train_data[columns_to_scale] = scaler.fit_transform(train_data[columns_to_scale])\n",
    "test_data[columns_to_scale] = scaler.transform(test_data[columns_to_scale])\n",
    "\n",
    "# Ensure all columns are numeric (convert boolean columns to integers if any)\n",
    "train_data = train_data.astype({col: 'int64' for col in train_data.select_dtypes(include=['bool']).columns})\n",
    "test_data = test_data.astype({col: 'int64' for col in test_data.select_dtypes(include=['bool']).columns})"
   ]
  },
  {
   "cell_type": "markdown",
   "id": "a059ed41",
   "metadata": {},
   "source": [
    "## Question 4. One-Hot-Encoding"
   ]
  },
  {
   "cell_type": "code",
   "execution_count": 13,
   "id": "a9a48932",
   "metadata": {},
   "outputs": [],
   "source": [
    "categorical_columns = train_data.select_dtypes(include=['object']).columns\n",
    "train_data_ohe = pd.get_dummies(train_data, columns=categorical_columns)\n",
    "test_data_ohe = pd.get_dummies(train_data, columns=categorical_columns)"
   ]
  },
  {
   "cell_type": "code",
   "execution_count": 14,
   "id": "21bab31b",
   "metadata": {},
   "outputs": [
    {
     "data": {
      "image/png": "[encoded data removed]",
      "text/plain": [
       "<Figure size 864x360 with 2 Axes>"
      ]
     },
     "metadata": {
      "needs_background": "light"
     },
     "output_type": "display_data"
    }
   ],
   "source": [
    "plt.figure(figsize=(12, 5))\n",
    "\n",
    "plt.subplot(1, 2, 1)\n",
    "train_data['Alley'].value_counts().plot(kind='bar', color='skyblue')\n",
    "plt.title('Original Alley Feature')\n",
    "plt.xlabel('Alley Type')\n",
    "plt.ylabel('Frequency')\n",
    "\n",
    "# Step 2: Plot the histogram of the one-hot encoded 'Alley' feature\n",
    "plt.subplot(1, 2, 2)\n",
    "train_data_ohe[['Alley_Grvl', 'Alley_Pave', 'Alley_NoAlley']].sum().plot(kind='bar', color='salmon')\n",
    "plt.title('One-Hot Encoded Alley Features')\n",
    "plt.xlabel('Alley One-Hot Encoded Columns')\n",
    "plt.ylabel('Frequency')\n",
    "\n",
    "plt.tight_layout()\n",
    "plt.show()"
   ]
  },
  {
   "cell_type": "markdown",
   "id": "db92121a",
   "metadata": {},
   "source": [
    "## Question 5. OLS on the training set"
   ]
  },
  {
   "cell_type": "code",
   "execution_count": 15,
   "id": "78e9fb92",
   "metadata": {},
   "outputs": [
    {
     "name": "stdout",
     "output_type": "stream",
     "text": [
      "MSE: 1089641337308157.0\n",
      "R² Score: -172771.77057287114\n"
     ]
    }
   ],
   "source": [
    "# Exclude the 'SalePrice' column and select all other columns as features\n",
    "X = train_data_ohe.drop(columns=['SalePrice'])\n",
    "\n",
    "y = train_data_ohe['SalePrice']\n",
    "\n",
    "X = (X - X.mean()) / X.std()\n",
    "\n",
    "X = X.apply(pd.to_numeric, errors='coerce')\n",
    "X = X.fillna(0)\n",
    "\n",
    "X = np.c_[np.ones(X.shape[0]), X.values]\n",
    "\n",
    "theta = np.linalg.inv(X.T @ X) @ (X.T @ y)\n",
    "\n",
    "y_pred = X @ theta\n",
    "\n",
    "mse = np.mean((y - y_pred) ** 2)\n",
    "\n",
    "ss_total = np.sum((y - y.mean()) ** 2)\n",
    "ss_residual = np.sum((y - y_pred) ** 2)\n",
    "r2_score = 1 - (ss_residual / ss_total)\n",
    "\n",
    "# Print the results\n",
    "print(f'MSE: {mse}')\n",
    "print(f'R² Score: {r2_score}')"
   ]
  },
  {
   "cell_type": "code",
   "execution_count": 16,
   "id": "d6f002f2",
   "metadata": {},
   "outputs": [
    {
     "name": "stdout",
     "output_type": "stream",
     "text": [
      "Mean Squared Error (MSE): 1420973671.3076346\n",
      "R² Score: 0.7746914056056099\n"
     ]
    },
    {
     "data": {
      "image/png": "[encoded data removed]",
      "text/plain": [
       "<Figure size 432x288 with 1 Axes>"
      ]
     },
     "metadata": {
      "needs_background": "light"
     },
     "output_type": "display_data"
    }
   ],
   "source": [
    "# Select certain features\n",
    "X = train_data_ohe[['OverallQual', 'GrLivArea', 'GarageCars', 'TotalBsmtSF', 'YearBuilt', 'LotArea', '1stFlrSF']]\n",
    "\n",
    "y = train_data_ohe['SalePrice']\n",
    "\n",
    "X = X.apply(pd.to_numeric, errors='coerce')\n",
    "X = X.fillna(0)\n",
    "\n",
    "X = np.c_[np.ones(X.shape[0]), X.values]\n",
    "\n",
    "theta = np.linalg.inv(X.T @ X) @ (X.T @ y)\n",
    "\n",
    "y_pred = X @ theta\n",
    "\n",
    "mse = np.mean((y - y_pred) ** 2)\n",
    "\n",
    "ss_total = np.sum((y - y.mean()) ** 2)\n",
    "ss_residual = np.sum((y - y_pred) ** 2)\n",
    "r2_score = 1 - (ss_residual / ss_total)\n",
    "\n",
    "print(f'Mean Squared Error (MSE): {mse}')\n",
    "print(f'R² Score: {r2_score}')\n",
    "\n",
    "plt.scatter(y, y_pred, alpha=0.5)\n",
    "plt.plot([min(y), max(y)], [min(y), max(y)], color='red', linestyle='--')\n",
    "plt.title('Actual vs Predicted House Prices')\n",
    "plt.xlabel('Actual Prices')\n",
    "plt.ylabel('Predicted Prices')\n",
    "plt.show()\n"
   ]
  },
  {
   "cell_type": "code",
   "execution_count": 17,
   "id": "32f32930",
   "metadata": {},
   "outputs": [
    {
     "name": "stdout",
     "output_type": "stream",
     "text": [
      "Mean Squared Error (MSE): 1263321863.46172\n",
      "R² Score: 0.7996885663178209\n"
     ]
    },
    {
     "data": {
      "image/png": "[encoded data removed]",
      "text/plain": [
       "<Figure size 432x288 with 1 Axes>"
      ]
     },
     "metadata": {
      "needs_background": "light"
     },
     "output_type": "display_data"
    }
   ],
   "source": [
    "# Expand feature selection (adding more relevant features)\n",
    "X = train_data_ohe[['OverallQual','GrLivArea', 'GarageCars', 'TotalBsmtSF', 'YearBuilt', \n",
    "                    'LotArea', '1stFlrSF', 'BsmtFinSF1', 'FullBath', 'TotRmsAbvGrd', \n",
    "                    'Fireplaces']].copy()\n",
    "\n",
    "\n",
    "# Add interaction terms (e.g., OverallQual * GrLivArea)\n",
    "X.loc[:, 'OverallQual_GrLivArea'] = X['OverallQual'] * X['GrLivArea']\n",
    "\n",
    "X = X.apply(pd.to_numeric, errors='coerce')\n",
    "X = X.fillna(0)\n",
    "\n",
    "X = np.c_[np.ones(X.shape[0]), X.values]\n",
    "\n",
    "y = train_data_ohe['SalePrice']\n",
    "\n",
    "X = (X - X.mean()) / X.std()\n",
    "\n",
    "theta = np.linalg.inv(X.T @ X) @ (X.T @ y)\n",
    "\n",
    "y_pred = X @ theta\n",
    "\n",
    "mse = np.mean((y - y_pred) ** 2)\n",
    "\n",
    "ss_total = np.sum((y - y.mean()) ** 2)\n",
    "ss_residual = np.sum((y - y_pred) ** 2)\n",
    "r2_score = 1 - (ss_residual / ss_total)\n",
    "\n",
    "print(f'Mean Squared Error (MSE): {mse}')\n",
    "print(f'R² Score: {r2_score}')\n",
    "\n",
    "plt.scatter(y, y_pred, alpha=0.5)\n",
    "plt.plot([min(y), max(y)], [min(y), max(y)], color='red', linestyle='--')\n",
    "plt.title('Actual vs Predicted House Prices')\n",
    "plt.xlabel('Actual Prices')\n",
    "plt.ylabel('Predicted Prices')\n",
    "plt.show()\n"
   ]
  },
  {
   "cell_type": "code",
   "execution_count": 18,
   "id": "fb94b6b0",
   "metadata": {
    "scrolled": true
   },
   "outputs": [
    {
     "name": "stdout",
     "output_type": "stream",
     "text": [
      "Mean Squared Error (MSE): 590961027.9264972\n",
      "R² Score: 0.8803848430918902\n"
     ]
    },
    {
     "data": {
      "image/png": "[encoded data removed]",
      "text/plain": [
       "<Figure size 432x288 with 1 Axes>"
      ]
     },
     "metadata": {
      "needs_background": "light"
     },
     "output_type": "display_data"
    }
   ],
   "source": [
    "# Expand feature selection (removing less important features)\n",
    "X = train_data_ohe[['OverallQual', 'GrLivArea', 'GarageCars', 'TotalBsmtSF', 'YearBuilt', \n",
    "                    'LotArea', '1stFlrSF', 'BsmtFinSF1', 'FullBath', 'TotRmsAbvGrd', \n",
    "                    'Fireplaces']].copy()\n",
    "\n",
    "X.loc[:, 'OverallQual_GrLivArea'] = X['OverallQual'] * X['GrLivArea']\n",
    "X.loc[:, 'TotalBsmtSF_1stFlrSF'] = X['TotalBsmtSF'] * X['1stFlrSF']\n",
    "\n",
    "X = X[(X['GrLivArea'] < X['GrLivArea'].quantile(0.99)) & \n",
    "      (X['LotArea'] < X['LotArea'].quantile(0.99)) & \n",
    "      (X['TotalBsmtSF'] < X['TotalBsmtSF'].quantile(0.99))]\n",
    "\n",
    "y = np.log(train_data_ohe['SalePrice'][X.index])\n",
    "\n",
    "X = X.apply(pd.to_numeric, errors='coerce')\n",
    "X = X.fillna(0)\n",
    "\n",
    "X = np.c_[np.ones(X.shape[0]), X.values]\n",
    "\n",
    "# Normalize the feature matrix\n",
    "X = (X - X.mean()) / X.std()\n",
    "\n",
    "# Apply OLS (Normal Equation)\n",
    "theta = np.linalg.inv(X.T @ X) @ (X.T @ y)\n",
    "\n",
    "# Make predictions (inverse log for interpretation)\n",
    "y_pred = np.exp(X @ theta)  # Inverse of log to get back to original scale\n",
    "\n",
    "# SCalculate MSE and R²\n",
    "mse = np.mean((np.exp(y) - y_pred) ** 2)  # Compare actual and predicted values on original scale\n",
    "ss_total = np.sum((np.exp(y) - np.exp(y).mean()) ** 2)\n",
    "ss_residual = np.sum((np.exp(y) - y_pred) ** 2)\n",
    "r2_score = 1 - (ss_residual / ss_total)\n",
    "\n",
    "# Print the results\n",
    "print(f'Mean Squared Error (MSE): {mse}')\n",
    "print(f'R² Score: {r2_score}')\n",
    "\n",
    "# Plot actual vs predicted values\n",
    "plt.scatter(np.exp(y), y_pred, alpha=0.5)\n",
    "plt.plot([min(np.exp(y)), max(np.exp(y))], [min(np.exp(y)), max(np.exp(y))], color='red', linestyle='--')\n",
    "plt.title('Actual vs Predicted House Prices')\n",
    "plt.xlabel('Actual Prices')\n",
    "plt.ylabel('Predicted Prices')\n",
    "plt.show()"
   ]
  },
  {
   "cell_type": "markdown",
   "id": "4e027f97",
   "metadata": {},
   "source": [
    "### Question 6"
   ]
  },
  {
   "cell_type": "code",
   "execution_count": 19,
   "id": "b102b0ac",
   "metadata": {},
   "outputs": [],
   "source": [
    "from sklearn.linear_model import LinearRegression\n",
    "from sklearn.preprocessing import StandardScaler\n",
    "\n",
    "# Select features for the training data\n",
    "X_train = train_data[['OverallQual', 'GrLivArea', 'GarageCars', 'TotalBsmtSF', 'YearBuilt', \n",
    "                      'LotArea', '1stFlrSF', 'BsmtFinSF1', 'FullBath', 'TotRmsAbvGrd', \n",
    "                      'Fireplaces']].copy()\n",
    "\n",
    "# Add interaction terms\n",
    "X_train['OverallQual_GrLivArea'] = X_train['OverallQual'] * X_train['GrLivArea']\n",
    "X_train['TotalBsmtSF_1stFlrSF'] = X_train['TotalBsmtSF'] * X_train['1stFlrSF']\n",
    "\n",
    "# Remove outliers from the training data\n",
    "X_train = X_train[(X_train['GrLivArea'] < X_train['GrLivArea'].quantile(0.99)) & \n",
    "                  (X_train['LotArea'] < X_train['LotArea'].quantile(0.99)) & \n",
    "                  (X_train['TotalBsmtSF'] < X_train['TotalBsmtSF'].quantile(0.99))]\n",
    "\n",
    "# Log-transform the target variable (SalePrice)\n",
    "y_train = np.log(train_data['SalePrice'][X_train.index])\n",
    "\n",
    "# Preprocess the test data using the same features\n",
    "X_test = test_data[['OverallQual', 'GrLivArea', 'GarageCars', 'TotalBsmtSF', 'YearBuilt', \n",
    "                    'LotArea', '1stFlrSF', 'BsmtFinSF1', 'FullBath', 'TotRmsAbvGrd', \n",
    "                    'Fireplaces']].copy()\n",
    "\n",
    "# Apply the same interaction terms to the test data\n",
    "X_test['OverallQual_GrLivArea'] = X_test['OverallQual'] * X_test['GrLivArea']\n",
    "X_test['TotalBsmtSF_1stFlrSF'] = X_test['TotalBsmtSF'] * X_test['1stFlrSF']\n",
    "\n",
    "# Handle missing values (if any)\n",
    "X_test = X_test.fillna(0)\n",
    "\n",
    "# Step 3: Scale both the training and test data\n",
    "scaler = StandardScaler()\n",
    "X_train_scaled = scaler.fit_transform(X_train)  # Fit on training data\n",
    "X_test_scaled = scaler.transform(X_test)        # Apply scaling to test data\n",
    "\n",
    "# Step 4: Train the model using scikit-learn's LinearRegression\n",
    "model = LinearRegression()\n",
    "model.fit(X_train_scaled, y_train)\n",
    "\n",
    "# Step 5: Make predictions on the test data\n",
    "y_test_pred_log = model.predict(X_test_scaled)\n",
    "y_test_pred = np.exp(y_test_pred_log)  # Inverse log transformation to get back to the original SalePrice\n",
    "\n",
    "test_data = pd.read_csv('data/test.csv')\n",
    "\n",
    "# Ensure the submission has the same 'Id' as in the test data\n",
    "submission = pd.DataFrame({\n",
    "    'Id': test_data['Id'],        # Use the Id from the test.csv\n",
    "    'SalePrice': y_test_pred      # Your predicted SalePrice values\n",
    "})\n",
    "\n",
    "# Save the submission file\n",
    "submission.to_csv('submission.csv', index=False)"
   ]
  },
  {
   "cell_type": "markdown",
   "id": "89d17740",
   "metadata": {},
   "source": [
    "# PART 2"
   ]
  },
  {
   "cell_type": "code",
   "execution_count": 20,
   "id": "362fa1f0",
   "metadata": {},
   "outputs": [],
   "source": [
    "test_file = 'titanic/test.csv'\n",
    "train_file = 'titanic/train.csv'\n",
    "test_df = pd.read_csv(test_file)\n",
    "train_df = pd.read_csv(train_file)"
   ]
  },
  {
   "cell_type": "code",
   "execution_count": 21,
   "id": "33e8c292",
   "metadata": {},
   "outputs": [
    {
     "data": {
      "image/png": "[encoded data removed]",
      "text/plain": [
       "<Figure size 576x432 with 2 Axes>"
      ]
     },
     "metadata": {
      "needs_background": "light"
     },
     "output_type": "display_data"
    },
    {
     "data": {
      "image/png": "[encoded data removed]",
      "text/plain": [
       "<Figure size 576x432 with 1 Axes>"
      ]
     },
     "metadata": {
      "needs_background": "light"
     },
     "output_type": "display_data"
    },
    {
     "name": "stdout",
     "output_type": "stream",
     "text": [
      "Accuracy: 0.8444444444444444\n",
      "ROC AUC: 0.9182098765432098\n"
     ]
    }
   ],
   "source": [
    "# Data Preprocessing\n",
    "\n",
    "# Fill missing 'Age' with median\n",
    "train_df = train_df.assign(Age=train_df['Age'].fillna(train_df['Age'].median()))\n",
    "test_df = test_df.assign(Age=test_df['Age'].fillna(test_df['Age'].median()))\n",
    "\n",
    "# Fill missing 'Fare' with median in test data\n",
    "test_df = test_df.assign(Fare=test_df['Fare'].fillna(test_df['Fare'].median()))\n",
    "\n",
    "# Fill missing 'Embarked' with the most common value\n",
    "train_df = train_df.assign(Embarked=train_df['Embarked'].fillna(train_df['Embarked'].mode()[0]))\n",
    "test_df = test_df.assign(Embarked=test_df['Embarked'].fillna(test_df['Embarked'].mode()[0]))\n",
    "\n",
    "# Drop 'Cabin' as it's mostly missing, and 'Ticket' and 'Name' since they may not provide meaningful information\n",
    "train_df = train_df.drop(['Cabin', 'Ticket', 'Name', 'PassengerId'], axis=1)\n",
    "test_df = test_df.drop(['Cabin', 'Ticket', 'Name', 'PassengerId'], axis=1)\n",
    "\n",
    "# Convert 'Sex' and 'Embarked' into numerical values using LabelEncoder\n",
    "le = LabelEncoder()\n",
    "train_df['Sex'] = le.fit_transform(train_df['Sex'])\n",
    "test_df['Sex'] = le.transform(test_df['Sex'])\n",
    "train_df['Embarked'] = le.fit_transform(train_df['Embarked'])\n",
    "test_df['Embarked'] = le.transform(test_df['Embarked'])\n",
    "\n",
    "\n",
    "# Step 2: Splitting Features and Target Variable\n",
    "X = train_df.drop('Survived', axis=1)  # Features\n",
    "y = train_df['Survived']  # Target variable\n",
    "\n",
    "# Split the training data into training and validation sets (90% train, 10% validate)\n",
    "X_train, X_val, y_train, y_val = train_test_split(X, y, test_size=0.1, random_state=42)\n",
    "\n",
    "# Standardize the features\n",
    "scaler = StandardScaler()\n",
    "X_train = scaler.fit_transform(X_train)\n",
    "X_val = scaler.transform(X_val)\n",
    "test_df = scaler.transform(test_df)\n",
    "\n",
    "# Step 3: Logistic Regression Model\n",
    "logreg = LogisticRegression(max_iter=1000)\n",
    "logreg.fit(X_train, y_train)\n",
    "\n",
    "# Predictions\n",
    "y_pred = logreg.predict(X_val)\n",
    "y_pred_prob = logreg.predict_proba(X_val)[:, 1]\n",
    "\n",
    "# Step 4: Performance Metrics\n",
    "# Accuracy\n",
    "accuracy = accuracy_score(y_val, y_pred)\n",
    "\n",
    "# Confusion Matrix\n",
    "conf_matrix = confusion_matrix(y_val, y_pred)\n",
    "\n",
    "# ROC AUC Score\n",
    "roc_auc = roc_auc_score(y_val, y_pred_prob)\n",
    "\n",
    "# ROC Curve\n",
    "fpr, tpr, thresholds = roc_curve(y_val, y_pred_prob)\n",
    "\n",
    "# Visualize Confusion Matrix\n",
    "plt.figure(figsize=(8, 6))\n",
    "sns.heatmap(conf_matrix, annot=True, fmt=\"d\", cmap=\"Blues\")\n",
    "plt.title(\"Confusion Matrix\")\n",
    "plt.ylabel(\"Actual\")\n",
    "plt.xlabel(\"Predicted\")\n",
    "plt.show()\n",
    "\n",
    "# Visualize ROC Curve\n",
    "plt.figure(figsize=(8, 6))\n",
    "plt.plot(fpr, tpr, color='blue', label=f'ROC Curve (AUC = {roc_auc:.2f})')\n",
    "plt.plot([0, 1], [0, 1], color='red', linestyle='--')\n",
    "plt.xlabel('False Positive Rate')\n",
    "plt.ylabel('True Positive Rate')\n",
    "plt.title('ROC Curve')\n",
    "plt.legend()\n",
    "plt.show()\n",
    "\n",
    "print(f\"Accuracy: {accuracy}\")\n",
    "print(f\"ROC AUC: {roc_auc}\")\n",
    "\n",
    "# Make predictions on the test set\n",
    "test_predictions = logreg.predict(test_df)\n",
    "\n",
    "# Save the predictions to a CSV file for submission to Kaggle\n",
    "submission = pd.DataFrame({\n",
    "    \"PassengerId\": pd.read_csv('titanic/test.csv')[\"PassengerId\"],\n",
    "    \"Survived\": test_predictions\n",
    "})\n",
    "submission.to_csv('titanic/submission.csv', index=False)\n"
   ]
  },
  {
   "cell_type": "code",
   "execution_count": null,
   "id": "1cfd1bbd",
   "metadata": {},
   "outputs": [],
   "source": []
  }
 ],
 "metadata": {
  "kernelspec": {
   "display_name": "Python 3 (ipykernel)",
   "language": "python",
   "name": "python3"
  },
  "language_info": {
   "codemirror_mode": {
    "name": "ipython",
    "version": 3
   },
   "file_extension": ".py",
   "mimetype": "text/x-python",
   "name": "python",
   "nbconvert_exporter": "python",
   "pygments_lexer": "ipython3",
   "version": "3.9.12"
  }
 },
 "nbformat": 4,
 "nbformat_minor": 5
}
